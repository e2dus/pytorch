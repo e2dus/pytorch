{
 "cells": [
  {
   "cell_type": "code",
   "execution_count": 11,
   "id": "a051e23a",
   "metadata": {},
   "outputs": [],
   "source": [
    "import torch\n",
    "import numpy as np"
   ]
  },
  {
   "cell_type": "code",
   "execution_count": 22,
   "id": "4d571a63",
   "metadata": {},
   "outputs": [
    {
     "name": "stdout",
     "output_type": "stream",
     "text": [
      "tensor(-9.3333)\n",
      "Epoch    0/10 W: 0.000,Cost: 4.666667\n",
      "tensor(-0.6222)\n",
      "Epoch    1/10 W: 0.933,Cost: 0.020741\n",
      "tensor(-0.0415)\n",
      "Epoch    2/10 W: 0.996,Cost: 0.000092\n",
      "tensor(-0.0028)\n",
      "Epoch    3/10 W: 1.000,Cost: 0.000000\n",
      "tensor(-0.0002)\n",
      "Epoch    4/10 W: 1.000,Cost: 0.000000\n",
      "tensor(-1.2000e-05)\n",
      "Epoch    5/10 W: 1.000,Cost: 0.000000\n",
      "tensor(-1.3510e-06)\n",
      "Epoch    6/10 W: 1.000,Cost: 0.000000\n",
      "tensor(0.)\n",
      "Epoch    7/10 W: 1.000,Cost: 0.000000\n",
      "tensor(0.)\n",
      "Epoch    8/10 W: 1.000,Cost: 0.000000\n",
      "tensor(0.)\n",
      "Epoch    9/10 W: 1.000,Cost: 0.000000\n",
      "tensor(0.)\n",
      "Epoch   10/10 W: 1.000,Cost: 0.000000\n"
     ]
    }
   ],
   "source": [
    "x_train = torch.FloatTensor([[1],[2],[3]])\n",
    "y_train = torch.FloatTensor([[1],[2],[3]])\n",
    "W = torch.zeros(1)\n",
    "hypothesis = W * x_train\n",
    "lr=0.1\n",
    "nb_epochs = 10\n",
    "for epoch in range(nb_epochs + 1):\n",
    "    hypothesis = x_train * W\n",
    "    cost = torch.mean((hypothesis - y_train)**2) #mse mean squared error\n",
    "    gradient = 2*torch.mean((W*x_train - y_train)*x_train)\n",
    "    print(gradient)\n",
    "    lr=0.1\n",
    "\n",
    "    print('Epoch {:4d}/{} W: {:.3f},Cost: {:.6f}'.format(\n",
    "        epoch, nb_epochs, W.item(), cost.item()))\n",
    "    W -= lr * gradient"
   ]
  },
  {
   "cell_type": "code",
   "execution_count": 9,
   "id": "61d2332a",
   "metadata": {},
   "outputs": [],
   "source": [
    "#cost 함수는 구해야한다. \n",
    "#코스트 함수는 미분하고 학습률을 곱해서 빼준다. "
   ]
  },
  {
   "cell_type": "code",
   "execution_count": 31,
   "id": "8e8546bb",
   "metadata": {},
   "outputs": [
    {
     "name": "stdout",
     "output_type": "stream",
     "text": [
      "Epoch    0/10 W: 0.000,Cost: 4.666667\n",
      "Epoch    1/10 W: 1.400,Cost: 0.746667\n",
      "Epoch    2/10 W: 0.840,Cost: 0.119467\n",
      "Epoch    3/10 W: 1.064,Cost: 0.019115\n",
      "Epoch    4/10 W: 0.974,Cost: 0.003058\n",
      "Epoch    5/10 W: 1.010,Cost: 0.000489\n",
      "Epoch    6/10 W: 0.996,Cost: 0.000078\n",
      "Epoch    7/10 W: 1.002,Cost: 0.000013\n",
      "Epoch    8/10 W: 0.999,Cost: 0.000002\n",
      "Epoch    9/10 W: 1.000,Cost: 0.000000\n",
      "Epoch   10/10 W: 1.000,Cost: 0.000000\n"
     ]
    }
   ],
   "source": [
    "#torch.optim으로 gradient descent 를 할 수 있다. \n",
    "#시작할 때 optimizer 정의\n",
    "#opimizer.zero_grad()로 gradient를 0 으로 초기화\n",
    "#cost.backward() 로 gradient 계산\n",
    "#optimizer.step() 으로 gradient descent\n",
    "x_train = torch.FloatTensor([[1],[2],[3]])\n",
    "y_train = torch.FloatTensor([[1],[2],[3]])\n",
    "\n",
    "W = torch.zeros(1, requires_grad=True)\n",
    "optimizer = torch.optim.SGD([W], lr=0.15)\n",
    "nb_epochs = 10\n",
    "for epoch in range(nb_epochs + 1):\n",
    "    hypothesis = x_train *W\n",
    "    \n",
    "    cost = torch.mean((hypothesis- y_train)**2)\n",
    "    print('Epoch {:4d}/{} W: {:.3f},Cost: {:.6f}'.format(\n",
    "        epoch, nb_epochs, W.item(), cost.item()))\n",
    "\n",
    "    optimizer.zero_grad() #optimizer을 전부 영으로 초기화 w를 영으로 초기화\n",
    "    cost.backward() #cost function을 미분해서 각 변수들의 그레디언트 저장\n",
    "    optimizer.step()#저장된 값으로 실행"
   ]
  },
  {
   "cell_type": "code",
   "execution_count": null,
   "id": "09c572de",
   "metadata": {},
   "outputs": [],
   "source": []
  }
 ],
 "metadata": {
  "kernelspec": {
   "display_name": "Python 3 (ipykernel)",
   "language": "python",
   "name": "python3"
  },
  "language_info": {
   "codemirror_mode": {
    "name": "ipython",
    "version": 3
   },
   "file_extension": ".py",
   "mimetype": "text/x-python",
   "name": "python",
   "nbconvert_exporter": "python",
   "pygments_lexer": "ipython3",
   "version": "3.9.13"
  }
 },
 "nbformat": 4,
 "nbformat_minor": 5
}
