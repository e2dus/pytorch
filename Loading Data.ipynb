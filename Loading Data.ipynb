{
 "cells": [
  {
   "cell_type": "code",
   "execution_count": 49,
   "id": "634b5b79",
   "metadata": {},
   "outputs": [],
   "source": [
    "import torch\n",
    "import numpy as np\n",
    "import torch.nn as nn\n",
    "import torch.nn.functional as F"
   ]
  },
  {
   "cell_type": "code",
   "execution_count": 50,
   "id": "cdce907d",
   "metadata": {},
   "outputs": [],
   "source": [
    "from torch.utils.data import Dataset\n",
    "\n",
    "class CustomDataset(Dataset):\n",
    "    def __init__(self):\n",
    "        self.x_data = [[73, 80, 75],\n",
    "                       [93, 88, 93],\n",
    "                       [89, 91, 90],\n",
    "                       [96, 96, 100],\n",
    "                       [73, 66, 70]]\n",
    "        self.y_data= [[152], [185], [180], [196], [142]]\n",
    "        \n",
    "    def __len__(self):\n",
    "        return len(self.x_data)\n",
    "    \n",
    "    def __getitem__(self, idx):\n",
    "        x = torch.FloatTensor(self.x_data[idx])\n",
    "        y = torch.FloatTensor(self.y_data[idx])\n",
    "        \n",
    "        return x, y\n",
    "    \n",
    "class MultivariatelinearRearessionModel(nn.Module):\n",
    "    def __init__(self):\n",
    "        super().__init__()\n",
    "        self.linear = nn.Linear(3, 1)\n",
    "    def forward(self, x):\n",
    "        return self.linear(x)\n",
    "dataset = CustomDataset()"
   ]
  },
  {
   "cell_type": "code",
   "execution_count": 51,
   "id": "b005dcc8",
   "metadata": {},
   "outputs": [],
   "source": [
    "model = MultivariatelinearRearessionModel()"
   ]
  },
  {
   "cell_type": "code",
   "execution_count": 52,
   "id": "e0359665",
   "metadata": {},
   "outputs": [],
   "source": [
    "optimizer =torch.optim.SGD(model.parameters(), lr=1e-5)"
   ]
  },
  {
   "cell_type": "code",
   "execution_count": 53,
   "id": "1504d24e",
   "metadata": {},
   "outputs": [],
   "source": [
    "from torch.utils.data import DataLoader\n",
    "\n",
    "dataloader = DataLoader(\n",
    "    dataset,\n",
    "    batch_size=2,\n",
    "    shuffle= True\n",
    ")"
   ]
  },
  {
   "cell_type": "code",
   "execution_count": 54,
   "id": "1e0b9b78",
   "metadata": {
    "scrolled": true
   },
   "outputs": [
    {
     "name": "stdout",
     "output_type": "stream",
     "text": [
      "Epoch    0/20 Batch 1/3 Cost: 41782.453125\n",
      "Epoch    0/20 Batch 2/3 Cost: 18828.972656\n",
      "Epoch    0/20 Batch 3/3 Cost: 2378.522949\n",
      "Epoch    1/20 Batch 1/3 Cost: 1541.049072\n",
      "Epoch    1/20 Batch 2/3 Cost: 859.733032\n",
      "Epoch    1/20 Batch 3/3 Cost: 24.040455\n",
      "Epoch    2/20 Batch 1/3 Cost: 71.623238\n",
      "Epoch    2/20 Batch 2/3 Cost: 55.305882\n",
      "Epoch    2/20 Batch 3/3 Cost: 14.377701\n",
      "Epoch    3/20 Batch 1/3 Cost: 16.241592\n",
      "Epoch    3/20 Batch 2/3 Cost: 2.389474\n",
      "Epoch    3/20 Batch 3/3 Cost: 25.242743\n",
      "Epoch    4/20 Batch 1/3 Cost: 2.602822\n",
      "Epoch    4/20 Batch 2/3 Cost: 22.122459\n",
      "Epoch    4/20 Batch 3/3 Cost: 11.264087\n",
      "Epoch    5/20 Batch 1/3 Cost: 9.676952\n",
      "Epoch    5/20 Batch 2/3 Cost: 19.994267\n",
      "Epoch    5/20 Batch 3/3 Cost: 0.585201\n",
      "Epoch    6/20 Batch 1/3 Cost: 9.111710\n",
      "Epoch    6/20 Batch 2/3 Cost: 8.684053\n",
      "Epoch    6/20 Batch 3/3 Cost: 26.898443\n",
      "Epoch    7/20 Batch 1/3 Cost: 11.553905\n",
      "Epoch    7/20 Batch 2/3 Cost: 11.922215\n",
      "Epoch    7/20 Batch 3/3 Cost: 26.272976\n",
      "Epoch    8/20 Batch 1/3 Cost: 6.150486\n",
      "Epoch    8/20 Batch 2/3 Cost: 20.829191\n",
      "Epoch    8/20 Batch 3/3 Cost: 20.275276\n",
      "Epoch    9/20 Batch 1/3 Cost: 2.120458\n",
      "Epoch    9/20 Batch 2/3 Cost: 22.454227\n",
      "Epoch    9/20 Batch 3/3 Cost: 12.189406\n",
      "Epoch   10/20 Batch 1/3 Cost: 8.602015\n",
      "Epoch   10/20 Batch 2/3 Cost: 20.415106\n",
      "Epoch   10/20 Batch 3/3 Cost: 7.775040\n",
      "Epoch   11/20 Batch 1/3 Cost: 14.416526\n",
      "Epoch   11/20 Batch 2/3 Cost: 7.243955\n",
      "Epoch   11/20 Batch 3/3 Cost: 26.708689\n",
      "Epoch   12/20 Batch 1/3 Cost: 15.341378\n",
      "Epoch   12/20 Batch 2/3 Cost: 15.597198\n",
      "Epoch   12/20 Batch 3/3 Cost: 1.071864\n",
      "Epoch   13/20 Batch 1/3 Cost: 14.419647\n",
      "Epoch   13/20 Batch 2/3 Cost: 9.353609\n",
      "Epoch   13/20 Batch 3/3 Cost: 23.031240\n",
      "Epoch   14/20 Batch 1/3 Cost: 20.789639\n",
      "Epoch   14/20 Batch 2/3 Cost: 10.904512\n",
      "Epoch   14/20 Batch 3/3 Cost: 0.937176\n",
      "Epoch   15/20 Batch 1/3 Cost: 10.650723\n",
      "Epoch   15/20 Batch 2/3 Cost: 9.515027\n",
      "Epoch   15/20 Batch 3/3 Cost: 20.159876\n",
      "Epoch   16/20 Batch 1/3 Cost: 17.432659\n",
      "Epoch   16/20 Batch 2/3 Cost: 12.476899\n",
      "Epoch   16/20 Batch 3/3 Cost: 9.042623\n",
      "Epoch   17/20 Batch 1/3 Cost: 22.350691\n",
      "Epoch   17/20 Batch 2/3 Cost: 8.564857\n",
      "Epoch   17/20 Batch 3/3 Cost: 0.083937\n",
      "Epoch   18/20 Batch 1/3 Cost: 7.575105\n",
      "Epoch   18/20 Batch 2/3 Cost: 22.694202\n",
      "Epoch   18/20 Batch 3/3 Cost: 16.214090\n",
      "Epoch   19/20 Batch 1/3 Cost: 12.542377\n",
      "Epoch   19/20 Batch 2/3 Cost: 2.706737\n",
      "Epoch   19/20 Batch 3/3 Cost: 32.155281\n",
      "Epoch   20/20 Batch 1/3 Cost: 2.322406\n",
      "Epoch   20/20 Batch 2/3 Cost: 15.628665\n",
      "Epoch   20/20 Batch 3/3 Cost: 23.419361\n"
     ]
    }
   ],
   "source": [
    "nb_epochs = 20\n",
    "for epoch in range(nb_epochs +1):\n",
    "    for batch_idx, samples in enumerate(dataloader): #minbatch의 인덱스와 데이터를 준다. \n",
    "        x_train, y_train = samples\n",
    "        \n",
    "        prediction = model(x_train)\n",
    "        \n",
    "        cost = F.mse_loss(prediction, y_train)\n",
    "        optimizer.zero_grad()\n",
    "        cost.backward()\n",
    "        optimizer.step()\n",
    "        print('Epoch {:4d}/{} Batch {}/{} Cost: {:.6f}'.format(\n",
    "            epoch, nb_epochs, batch_idx+1, len(dataloader), \n",
    "            cost.item()\n",
    "        ))\n",
    "        \n",
    "        "
   ]
  },
  {
   "cell_type": "code",
   "execution_count": null,
   "id": "5c344f7b",
   "metadata": {},
   "outputs": [],
   "source": []
  },
  {
   "cell_type": "code",
   "execution_count": null,
   "id": "b3f3985b",
   "metadata": {},
   "outputs": [],
   "source": []
  },
  {
   "cell_type": "code",
   "execution_count": null,
   "id": "6b05bc02",
   "metadata": {},
   "outputs": [],
   "source": []
  }
 ],
 "metadata": {
  "kernelspec": {
   "display_name": "Python 3 (ipykernel)",
   "language": "python",
   "name": "python3"
  },
  "language_info": {
   "codemirror_mode": {
    "name": "ipython",
    "version": 3
   },
   "file_extension": ".py",
   "mimetype": "text/x-python",
   "name": "python",
   "nbconvert_exporter": "python",
   "pygments_lexer": "ipython3",
   "version": "3.9.13"
  }
 },
 "nbformat": 4,
 "nbformat_minor": 5
}
