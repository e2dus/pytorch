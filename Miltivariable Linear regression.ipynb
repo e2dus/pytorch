{
 "cells": [
  {
   "cell_type": "code",
   "execution_count": 73,
   "id": "3ee9fcb3",
   "metadata": {},
   "outputs": [],
   "source": [
    "import torch\n",
    "import numpy as np"
   ]
  },
  {
   "cell_type": "code",
   "execution_count": 74,
   "id": "aa859b5a",
   "metadata": {},
   "outputs": [],
   "source": [
    "x_train = torch.FloatTensor([[73, 80, 75],\n",
    "                            [93, 88, 93],\n",
    "                            [89, 91, 90],\n",
    "                            [96, 98, 100],\n",
    "                            [73, 66, 70]])\n",
    "y_train = torch.FloatTensor([[152], [185], [180], [196], [142]])"
   ]
  },
  {
   "cell_type": "code",
   "execution_count": 75,
   "id": "8da2f7e5",
   "metadata": {},
   "outputs": [],
   "source": [
    "# w = torch.zeros((3, 1), requires_grad=True)\n",
    "# b = torch.zeros(1, requires_grad=True)"
   ]
  },
  {
   "cell_type": "code",
   "execution_count": 76,
   "id": "0010da2f",
   "metadata": {},
   "outputs": [],
   "source": [
    "# optimizer = torch.optim.SGD([w,b], lr=1e-5)"
   ]
  },
  {
   "cell_type": "code",
   "execution_count": 90,
   "id": "f96b5a59",
   "metadata": {},
   "outputs": [],
   "source": [
    "# np_epochs = 20\n",
    "# for epoch in range(np_epochs + 1):\n",
    "#     hypothesis = x_train.matmul(w) + b\n",
    "#     cost = torch.mean((hypothesis - y_train) ** 2)\n",
    "#     optimizer.zero_grad()\n",
    "#     cost.backwa  rd()\n",
    "#     optimizer.step()\n",
    "#     print('Epoch {:4d}/{} hypothesis: {} Cost: {:.6f}'.format(\n",
    "#         epoch, np_epochs, hypothesis.squeeze().detach(), \n",
    "#         cost.item()\n",
    "#     ))"
   ]
  },
  {
   "cell_type": "code",
   "execution_count": 91,
   "id": "33797195",
   "metadata": {},
   "outputs": [],
   "source": [
    "import torch.nn as nn\n",
    "import torch.nn.functional as F"
   ]
  },
  {
   "cell_type": "code",
   "execution_count": 92,
   "id": "14622c09",
   "metadata": {},
   "outputs": [],
   "source": [
    "x_train = torch.FloatTensor([[73, 80, 75],\n",
    "                            [93, 88, 93],\n",
    "                            [89, 91, 90],\n",
    "                            [96, 98, 100],\n",
    "                            [73, 66, 70]])\n",
    "y_train = torch.FloatTensor([[152], [185], [180], [196], [142]])"
   ]
  },
  {
   "cell_type": "code",
   "execution_count": 93,
   "id": "60bf1f0c",
   "metadata": {},
   "outputs": [],
   "source": [
    "class MultivariatelinearRearessionModel(nn.Module):\n",
    "    def __init__(self):\n",
    "        super().__init__()\n",
    "        self.linear = nn.Linear(3, 1)\n",
    "    def forward(self, x): #hypothesis계산\n",
    "        return self.linear(x)\n"
   ]
  },
  {
   "cell_type": "code",
   "execution_count": 94,
   "id": "252e443c",
   "metadata": {},
   "outputs": [],
   "source": [
    "model = MultivariatelinearRearessionModel()"
   ]
  },
  {
   "cell_type": "code",
   "execution_count": 95,
   "id": "8a8112b5",
   "metadata": {},
   "outputs": [],
   "source": [
    "optimizer =torch.optim.SGD(model.parameters(), lr=1e-5)"
   ]
  },
  {
   "cell_type": "code",
   "execution_count": 96,
   "id": "a0c05307",
   "metadata": {},
   "outputs": [
    {
     "name": "stdout",
     "output_type": "stream",
     "text": [
      "Epoch    0/20 hypothesis: tensor([ -8.4084, -11.5933, -10.5225, -12.6942,  -8.2655]) Cost: 33362.320312\n",
      "Epoch    1/20 hypothesis: tensor([62.9211, 74.1405, 73.9519, 79.2964, 57.1280]) Cost: 10458.814453\n",
      "Epoch    2/20 hypothesis: tensor([102.8556, 122.1399, 121.2459, 130.7985,  93.7396]) Cost: 3279.781982\n",
      "Epoch    3/20 hypothesis: tensor([125.2132, 149.0131, 147.7241, 159.6326, 114.2373]) Cost: 1029.536133\n",
      "Epoch    4/20 hypothesis: tensor([137.7302, 164.0586, 162.5481, 175.7757, 125.7134]) Cost: 324.202209\n",
      "Epoch    5/20 hypothesis: tensor([144.7377, 172.4822, 170.8475, 184.8136, 132.1387]) Cost: 103.116806\n",
      "Epoch    6/20 hypothesis: tensor([148.6608, 177.1985, 175.4939, 189.8735, 135.7362]) Cost: 33.817665\n",
      "Epoch    7/20 hypothesis: tensor([150.8569, 179.8391, 178.0952, 192.7063, 137.7505]) Cost: 12.095348\n",
      "Epoch    8/20 hypothesis: tensor([152.0862, 181.3176, 179.5515, 194.2922, 138.8785]) Cost: 5.285782\n",
      "Epoch    9/20 hypothesis: tensor([152.7742, 182.1456, 180.3667, 195.1801, 139.5102]) Cost: 3.150594\n",
      "Epoch   10/20 hypothesis: tensor([153.1591, 182.6093, 180.8231, 195.6771, 139.8641]) Cost: 2.480572\n",
      "Epoch   11/20 hypothesis: tensor([153.3744, 182.8691, 181.0786, 195.9553, 140.0625]) Cost: 2.269818\n",
      "Epoch   12/20 hypothesis: tensor([153.4946, 183.0147, 181.2215, 196.1110, 140.1737]) Cost: 2.203025\n",
      "Epoch   13/20 hypothesis: tensor([153.5618, 183.0963, 181.3014, 196.1982, 140.2362]) Cost: 2.181373\n",
      "Epoch   14/20 hypothesis: tensor([153.5991, 183.1422, 181.3461, 196.2469, 140.2714]) Cost: 2.173845\n",
      "Epoch   15/20 hypothesis: tensor([153.6197, 183.1681, 181.3710, 196.2741, 140.2914]) Cost: 2.170754\n",
      "Epoch   16/20 hypothesis: tensor([153.6311, 183.1828, 181.3849, 196.2893, 140.3027]) Cost: 2.169023\n",
      "Epoch   17/20 hypothesis: tensor([153.6371, 183.1911, 181.3926, 196.2978, 140.3093]) Cost: 2.167760\n",
      "Epoch   18/20 hypothesis: tensor([153.6403, 183.1960, 181.3969, 196.3024, 140.3132]) Cost: 2.166632\n",
      "Epoch   19/20 hypothesis: tensor([153.6419, 183.1988, 181.3992, 196.3050, 140.3156]) Cost: 2.165540\n",
      "Epoch   20/20 hypothesis: tensor([153.6425, 183.2006, 181.4004, 196.3064, 140.3172]) Cost: 2.164450\n"
     ]
    }
   ],
   "source": [
    "np_epochs = 20\n",
    "for epoch in range(np_epochs + 1):\n",
    "    hypothesis = model(x_train)\n",
    "    cost = F.mse_loss(hypothesis, y_train)\n",
    "    optimizer.zero_grad()\n",
    "    cost.backward() #gradient 계산\n",
    "    optimizer.step()\n",
    "    print('Epoch {:4d}/{} hypothesis: {} Cost: {:.6f}'.format(\n",
    "        epoch, np_epochs, hypothesis.squeeze().detach(), \n",
    "        cost.item()\n",
    "    ))"
   ]
  },
  {
   "cell_type": "code",
   "execution_count": null,
   "id": "9f4f70c2",
   "metadata": {},
   "outputs": [],
   "source": []
  },
  {
   "cell_type": "code",
   "execution_count": null,
   "id": "3d851656",
   "metadata": {},
   "outputs": [],
   "source": []
  },
  {
   "cell_type": "code",
   "execution_count": null,
   "id": "0c3c1847",
   "metadata": {},
   "outputs": [],
   "source": []
  }
 ],
 "metadata": {
  "kernelspec": {
   "display_name": "Python 3 (ipykernel)",
   "language": "python",
   "name": "python3"
  },
  "language_info": {
   "codemirror_mode": {
    "name": "ipython",
    "version": 3
   },
   "file_extension": ".py",
   "mimetype": "text/x-python",
   "name": "python",
   "nbconvert_exporter": "python",
   "pygments_lexer": "ipython3",
   "version": "3.9.13"
  }
 },
 "nbformat": 4,
 "nbformat_minor": 5
}
