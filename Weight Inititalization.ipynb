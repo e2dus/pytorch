{
 "cells": [
  {
   "cell_type": "code",
   "execution_count": 10,
   "id": "30f71c83",
   "metadata": {},
   "outputs": [],
   "source": [
    "import torch\n",
    "import torch.nn as nn\n",
    "import torch.functional as F\n",
    "import torchvision.datasets as dsets\n",
    "import torch.utils\n",
    "from torchvision import transforms"
   ]
  },
  {
   "cell_type": "markdown",
   "id": "2dbfa495",
   "metadata": {},
   "source": [
    "#Restricted Boltzmann Machine(RBM)\n",
    "레이어 안에서는 연결이 없다. 한 레이어 안에있는 노드들 끼리는 없다. \n",
    "다른 레이어는 완전히 연결되어있다.\n",
    "#Deep Belief Network\n",
    "하나씩 레이어를 쌓으면서 파라미터를 업데이트한다. 단 업데이트 하는 파라미터는 새로운 레이어에만 고정\n",
    "\n",
    "Fine tuning을 한다. 그 후에\n",
    "하지만 잘 사용되지 않는다. 현재는\n",
    "Xavier와 He initialization을 한다.\n",
    "Xavier Normal initialization으로 초기화하는 경우 수식을 이용해서 초기화\n",
    "\n",
    "Xavier Uniform initialization도 수식을 이용하여 초기화\n",
    "\n",
    "He도 Normal initializaiont이 된다. \n",
    "\n",
    "\n"
   ]
  },
  {
   "cell_type": "code",
   "execution_count": 11,
   "id": "b7fe6e1e",
   "metadata": {},
   "outputs": [],
   "source": [
    "mnist_train = dsets.MNIST(root= \"MNIST_data/\", train=True, transform=transforms.ToTensor(),\n",
    "                         download=True)\n",
    "mnist_test = dsets.MNIST(root=\"MNIST_data/\", train=False, transform=transforms.ToTensor(),\n",
    "                         download=True)\n",
    "\n",
    "train_loader = torch.utils.data.DataLoader(mnist_train, batch_size=32, shuffle=True, drop_last=True)\n",
    "test_loader = torch.utils.data.DataLoader(mnist_test, batch_size=32, shuffle=True,\n",
    "                                          drop_last=True)\n",
    "training_epochs=1\n",
    "for epoch in range(training_epochs):\n",
    "    for X,Y in train_loader:\n",
    "        X = X.view(-1, 28 * 28)"
   ]
  },
  {
   "cell_type": "code",
   "execution_count": 12,
   "id": "9eb3098f",
   "metadata": {},
   "outputs": [],
   "source": [
    "def xavier_uniform_(tensor, gain=1):\n",
    "    #초기화하고 하는 레이어의 인풋 수와 아웃풋 수\n",
    "    fan_in, fan_out = _calculate_fan_in_and_fan_out(tensor)\n",
    "    std = gain * math.sqrt(2.0 / (fan_in + fan_out))\n",
    "    #fan in fan out을 더한다음에 2를 나누고 거기다 루트를 씌운다. \n",
    "    a = math.sqrt(3.0) * std\n",
    "    with torch.no_grad():\n",
    "        return tensor.uniform_(-a,a)\n",
    "            "
   ]
  },
  {
   "cell_type": "code",
   "execution_count": 13,
   "id": "094d3f52",
   "metadata": {},
   "outputs": [],
   "source": [
    "learning_rate = 0.001\n",
    "training_epochs = 15\n",
    "batch_size = 100\n",
    "\n",
    "linear1 = torch.nn.Linear(784, 256, bias=True)\n",
    "linear2 = torch.nn.Linear(256, 256, bias=True)\n",
    "linear3 = torch.nn.Linear(256, 10, bias=True)\n",
    "relu = torch.nn.ReLU()\n",
    "torch.nn.init.xavier_uniform_(linear1.weight)\n",
    "torch.nn.init.xavier_uniform_(linear2.weight)\n",
    "torch.nn.init.xavier_uniform_(linear3.weight)\n",
    "\n",
    "model = torch.nn.Sequential(linear1, relu, linear2, relu, linear3)\n",
    "\n",
    "criterion = torch.nn.CrossEntropyLoss()\n",
    "optimizer = torch.optim.Adam(model.parameters(),lr = learning_rate)"
   ]
  },
  {
   "cell_type": "code",
   "execution_count": null,
   "id": "b7ee13d8",
   "metadata": {},
   "outputs": [
    {
     "name": "stdout",
     "output_type": "stream",
     "text": [
      "Epoch: 0001 cost= 0.195333585\n",
      "Epoch: 0002 cost= 0.083224274\n",
      "Epoch: 0003 cost= 0.058966253\n",
      "Epoch: 0004 cost= 0.043390539\n",
      "Epoch: 0005 cost= 0.034715246\n",
      "Epoch: 0006 cost= 0.029933458\n",
      "Epoch: 0007 cost= 0.022908306\n",
      "Epoch: 0008 cost= 0.021288449\n"
     ]
    }
   ],
   "source": [
    "total_batch = len(train_loader)\n",
    "for epoch in range(training_epochs):\n",
    "    avg_cost = 0\n",
    "    total_batch = len(train_loader)\n",
    "    for X, Y in train_loader:\n",
    "        X = X.view(-1, 28 * 28)\n",
    "        optimizer.zero_grad()\n",
    "        hypothesis = model(X)\n",
    "        cost = criterion(hypothesis, Y)\n",
    "        cost.backward()\n",
    "        optimizer.step()\n",
    "        avg_cost += cost / total_batch\n",
    "    print(\"Epoch:\", \"%04d\" % (epoch+1), \"cost=\", \"{:.9f}\".format(avg_cost))"
   ]
  },
  {
   "cell_type": "code",
   "execution_count": null,
   "id": "1d0284aa",
   "metadata": {},
   "outputs": [],
   "source": []
  }
 ],
 "metadata": {
  "kernelspec": {
   "display_name": "Python 3 (ipykernel)",
   "language": "python",
   "name": "python3"
  },
  "language_info": {
   "codemirror_mode": {
    "name": "ipython",
    "version": 3
   },
   "file_extension": ".py",
   "mimetype": "text/x-python",
   "name": "python",
   "nbconvert_exporter": "python",
   "pygments_lexer": "ipython3",
   "version": "3.9.13"
  }
 },
 "nbformat": 4,
 "nbformat_minor": 5
}
